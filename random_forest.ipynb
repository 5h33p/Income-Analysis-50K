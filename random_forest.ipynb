{
  "nbformat": 4,
  "nbformat_minor": 0,
  "metadata": {
    "colab": {
      "provenance": [],
      "authorship_tag": "ABX9TyMLJai4c1uNaL8TL64JrE7E",
      "include_colab_link": true
    },
    "kernelspec": {
      "name": "python3",
      "display_name": "Python 3"
    },
    "language_info": {
      "name": "python"
    }
  },
  "cells": [
    {
      "cell_type": "markdown",
      "metadata": {
        "id": "view-in-github",
        "colab_type": "text"
      },
      "source": [
        "<a href=\"https://colab.research.google.com/github/5h33p/Income-Analysis-50K/blob/main/random_forest.ipynb\" target=\"_parent\"><img src=\"https://colab.research.google.com/assets/colab-badge.svg\" alt=\"Open In Colab\"/></a>"
      ]
    },
    {
      "cell_type": "markdown",
      "source": [
        "# Getting DataFrame"
      ],
      "metadata": {
        "id": "cfgjkd3dt2qc"
      }
    },
    {
      "cell_type": "code",
      "source": [
        "!pip install ucimlrepo"
      ],
      "metadata": {
        "colab": {
          "base_uri": "https://localhost:8080/"
        },
        "id": "fm4TFxZUp3FX",
        "outputId": "1f908cd0-b9cb-48c7-9c97-d52782d36f5a"
      },
      "execution_count": null,
      "outputs": [
        {
          "output_type": "stream",
          "name": "stdout",
          "text": [
            "Collecting ucimlrepo\n",
            "  Downloading ucimlrepo-0.0.7-py3-none-any.whl.metadata (5.5 kB)\n",
            "Requirement already satisfied: pandas>=1.0.0 in /usr/local/lib/python3.11/dist-packages (from ucimlrepo) (2.2.2)\n",
            "Requirement already satisfied: certifi>=2020.12.5 in /usr/local/lib/python3.11/dist-packages (from ucimlrepo) (2025.1.31)\n",
            "Requirement already satisfied: numpy>=1.23.2 in /usr/local/lib/python3.11/dist-packages (from pandas>=1.0.0->ucimlrepo) (1.26.4)\n",
            "Requirement already satisfied: python-dateutil>=2.8.2 in /usr/local/lib/python3.11/dist-packages (from pandas>=1.0.0->ucimlrepo) (2.8.2)\n",
            "Requirement already satisfied: pytz>=2020.1 in /usr/local/lib/python3.11/dist-packages (from pandas>=1.0.0->ucimlrepo) (2025.1)\n",
            "Requirement already satisfied: tzdata>=2022.7 in /usr/local/lib/python3.11/dist-packages (from pandas>=1.0.0->ucimlrepo) (2025.1)\n",
            "Requirement already satisfied: six>=1.5 in /usr/local/lib/python3.11/dist-packages (from python-dateutil>=2.8.2->pandas>=1.0.0->ucimlrepo) (1.17.0)\n",
            "Downloading ucimlrepo-0.0.7-py3-none-any.whl (8.0 kB)\n",
            "Installing collected packages: ucimlrepo\n",
            "Successfully installed ucimlrepo-0.0.7\n"
          ]
        }
      ]
    },
    {
      "cell_type": "markdown",
      "source": [
        "# Importing Functions"
      ],
      "metadata": {
        "id": "7Mo5W-vmt5US"
      }
    },
    {
      "cell_type": "code",
      "execution_count": null,
      "metadata": {
        "id": "ig2lEli5o5oU"
      },
      "outputs": [],
      "source": [
        "import pandas as pd\n",
        "import numpy as np\n",
        "import matplotlib.pyplot as plt\n",
        "import seaborn as sns\n",
        "\n",
        "#Import models from scikit learn module:\n",
        "from sklearn.model_selection import train_test_split\n",
        "from ucimlrepo import fetch_ucirepo\n",
        "from sklearn.tree import DecisionTreeClassifier\n",
        "from sklearn.ensemble import RandomForestClassifier, BaggingClassifier, RandomForestRegressor\n",
        "from sklearn import tree\n",
        "from sklearn.linear_model import LogisticRegression\n",
        "from sklearn.metrics import accuracy_score, precision_score, recall_score, f1_score, roc_auc_score"
      ]
    },
    {
      "cell_type": "markdown",
      "source": [
        "# Separeting Data"
      ],
      "metadata": {
        "id": "66nwHntnt-l6"
      }
    },
    {
      "cell_type": "code",
      "source": [
        "census_income = fetch_ucirepo(id=20)\n",
        "X = census_income.data.features\n",
        "y = census_income.data.targets\n",
        "\n",
        "drop = ['workclass', 'occupation', 'native-country']\n",
        "\n",
        "X = X.drop(columns=drop)\n",
        "\n",
        "print(len(X), len(y))"
      ],
      "metadata": {
        "colab": {
          "base_uri": "https://localhost:8080/"
        },
        "id": "rDqgKp97pRyh",
        "outputId": "c6bbf03b-f52b-4026-b2b1-e314a48e0834"
      },
      "execution_count": null,
      "outputs": [
        {
          "output_type": "stream",
          "name": "stdout",
          "text": [
            "48842 48842\n"
          ]
        }
      ]
    },
    {
      "cell_type": "markdown",
      "source": [
        "# Treating Data"
      ],
      "metadata": {
        "id": "xTuZZ3WyuFSj"
      }
    },
    {
      "cell_type": "code",
      "source": [
        "obj_col = []\n",
        "\n",
        "for column in X.columns:\n",
        "  if X[column].dtype == 'object':\n",
        "    X[column] = X[column].apply(lambda x: x.strip() if isinstance(x, str) else x)\n",
        "    obj_col.append(column)\n",
        "\n",
        "X = pd.get_dummies(X, columns=obj_col)\n",
        "\n",
        "y = y.income.apply(lambda x: str(x).strip())\n",
        "# print(y.income.unique()) # Labels has 4 entries: ['<=50K' '>50K' '<=50K.' '>50K.']\n",
        "y = y.map({'<=50K': 0, '<=50K.': 0, '>50K': 1, '>50K.': 1})\n",
        "\n",
        "print(X.columns)\n",
        "print(y.unique())"
      ],
      "metadata": {
        "colab": {
          "base_uri": "https://localhost:8080/"
        },
        "id": "Lr75Bq8juHmg",
        "outputId": "7e3ac390-cd99-49b6-cb1d-5d4f3e8c37ff"
      },
      "execution_count": null,
      "outputs": [
        {
          "output_type": "stream",
          "name": "stdout",
          "text": [
            "Index(['age', 'fnlwgt', 'education-num', 'capital-gain', 'capital-loss',\n",
            "       'hours-per-week', 'education_10th', 'education_11th', 'education_12th',\n",
            "       'education_1st-4th', 'education_5th-6th', 'education_7th-8th',\n",
            "       'education_9th', 'education_Assoc-acdm', 'education_Assoc-voc',\n",
            "       'education_Bachelors', 'education_Doctorate', 'education_HS-grad',\n",
            "       'education_Masters', 'education_Preschool', 'education_Prof-school',\n",
            "       'education_Some-college', 'marital-status_Divorced',\n",
            "       'marital-status_Married-AF-spouse', 'marital-status_Married-civ-spouse',\n",
            "       'marital-status_Married-spouse-absent', 'marital-status_Never-married',\n",
            "       'marital-status_Separated', 'marital-status_Widowed',\n",
            "       'relationship_Husband', 'relationship_Not-in-family',\n",
            "       'relationship_Other-relative', 'relationship_Own-child',\n",
            "       'relationship_Unmarried', 'relationship_Wife',\n",
            "       'race_Amer-Indian-Eskimo', 'race_Asian-Pac-Islander', 'race_Black',\n",
            "       'race_Other', 'race_White', 'sex_Female', 'sex_Male'],\n",
            "      dtype='object')\n",
            "[0 1]\n"
          ]
        }
      ]
    },
    {
      "cell_type": "code",
      "source": [
        "x_train, x_test, y_train, y_test = train_test_split(X, y, test_size=.2, random_state=8)"
      ],
      "metadata": {
        "id": "vzKHFeBakEDB"
      },
      "execution_count": null,
      "outputs": []
    },
    {
      "cell_type": "markdown",
      "source": [
        "# Creating Models"
      ],
      "metadata": {
        "id": "64Xe7YlVkbDF"
      }
    },
    {
      "cell_type": "code",
      "source": [
        "rf = RandomForestClassifier(n_estimators=100, random_state=8)\n",
        "rf.fit(x_train, y_train)\n",
        "\n",
        "print(rf.score(x_test, y_test))"
      ],
      "metadata": {
        "colab": {
          "base_uri": "https://localhost:8080/"
        },
        "id": "K2VeOaKCkagL",
        "outputId": "59204f92-183b-4bd3-8a7b-6ca32f3e9652"
      },
      "execution_count": null,
      "outputs": [
        {
          "output_type": "stream",
          "name": "stdout",
          "text": [
            "0.8392875422254069\n"
          ]
        }
      ]
    },
    {
      "cell_type": "code",
      "source": [
        "max_depth = [i for i in range(1, 26)]\n",
        "accuracy_test = []\n",
        "accuracy_train = []\n",
        "\n",
        "for depth in max_depth:\n",
        "  rf = RandomForestClassifier(n_estimators=100, max_depth=depth, random_state=8)\n",
        "  rf.fit(x_train, y_train)\n",
        "  accuracy_test.append(rf.score(x_test, y_test))\n",
        "  accuracy_train.append(rf.score(x_train, y_train))\n",
        "print(accuracy_test, accuracy_train)"
      ],
      "metadata": {
        "colab": {
          "base_uri": "https://localhost:8080/"
        },
        "id": "3V7XDeQulC81",
        "outputId": "e9f9b23a-02d0-4eeb-b76e-9de1f05cc2f0"
      },
      "execution_count": null,
      "outputs": [
        {
          "output_type": "stream",
          "name": "stdout",
          "text": [
            "[0.7549390930494421, 0.7904596171563107, 0.8251612242808886, 0.8371378851468932, 0.8433821271368614, 0.8462483365748797, 0.8478861705394616, 0.8515712969597707, 0.852492578564848, 0.8523902139420616, 0.8531067663015662, 0.8546422356433616, 0.8543351417750026, 0.8541304125294298, 0.8560753403623708, 0.8567918927218753, 0.8564847988535162, 0.8573037158358071, 0.8569966219674481, 0.8557682464940116, 0.8573037158358071, 0.8544375063977889, 0.8561777049851571, 0.8537209540382844, 0.8525949431876344] [0.762163130550508, 0.794717579914519, 0.8291915133212192, 0.8434212883576895, 0.8480536431807131, 0.8519182043866609, 0.8548102270109794, 0.8585468226140813, 0.8607478309830318, 0.8621554526143372, 0.8644588334655644, 0.8670437386430527, 0.8699613543879405, 0.8745425229698257, 0.8799170782893558, 0.8854195992117319, 0.8900519540347555, 0.8969365034678678, 0.9022598725462596, 0.9098610293553093, 0.9181787935402964, 0.9255752053847925, 0.9318455199242444, 0.9405471809177693, 0.9479179996416963]\n"
          ]
        }
      ]
    },
    {
      "cell_type": "code",
      "source": [
        "print(max(accuracy_test), accuracy_test.index(max(accuracy_test)))"
      ],
      "metadata": {
        "id": "RUK8-WhUrg_T",
        "colab": {
          "base_uri": "https://localhost:8080/"
        },
        "outputId": "c5b6fe4b-0cab-4484-8ff1-36645cb15eba"
      },
      "execution_count": null,
      "outputs": [
        {
          "output_type": "stream",
          "name": "stdout",
          "text": [
            "0.8573037158358071 17\n"
          ]
        }
      ]
    },
    {
      "cell_type": "code",
      "source": [
        "depth = [i for i in range(1, 26)]\n",
        "\n",
        "plt.scatter(depth, accuracy_test, label='Test')\n",
        "plt.scatter(depth, accuracy_train, label='Train')\n",
        "plt.legend()\n",
        "plt.show()"
      ],
      "metadata": {
        "colab": {
          "base_uri": "https://localhost:8080/",
          "height": 430
        },
        "id": "lNZNaipCDvAM",
        "outputId": "efa1669d-645d-4515-c3c4-46ed4f32d14a"
      },
      "execution_count": null,
      "outputs": [
        {
          "output_type": "display_data",
          "data": {
            "text/plain": [
              "<Figure size 640x480 with 1 Axes>"
            ],
            "image/png": "[encoded data removed]"
          },
          "metadata": {}
        }
      ]
    },
    {
      "cell_type": "code",
      "source": [
        "rf = RandomForestClassifier(n_estimators=100, max_depth=17, random_state=8)\n",
        "rf.fit(x_train, y_train)\n",
        "\n",
        "important_features = pd.DataFrame(data={'feature': rf.feature_names_in_, 'importance': rf.feature_importances_})\n",
        "print(important_features.sort_values(by='importance', ascending=False))"
      ],
      "metadata": {
        "colab": {
          "base_uri": "https://localhost:8080/"
        },
        "id": "iZlb8mCkEHNb",
        "outputId": "7cf846cc-0b16-4f2c-bb92-d363c4b3481f"
      },
      "execution_count": null,
      "outputs": [
        {
          "output_type": "stream",
          "name": "stdout",
          "text": [
            "('criterion', 'max_depth', 'min_samples_split', 'min_samples_leaf', 'min_weight_fraction_leaf', 'max_features', 'max_leaf_nodes', 'min_impurity_decrease', 'random_state', 'ccp_alpha', 'monotonic_cst')\n",
            "                                 feature  importance\n",
            "3                           capital-gain    0.176574\n",
            "24     marital-status_Married-civ-spouse    0.125004\n",
            "2                          education-num    0.118755\n",
            "0                                    age    0.097644\n",
            "29                  relationship_Husband    0.078383\n",
            "5                         hours-per-week    0.072089\n",
            "1                                 fnlwgt    0.069981\n",
            "4                           capital-loss    0.052610\n",
            "26          marital-status_Never-married    0.039674\n",
            "15                   education_Bachelors    0.019105\n",
            "18                     education_Masters    0.014480\n",
            "34                     relationship_Wife    0.013706\n",
            "30            relationship_Not-in-family    0.013181\n",
            "40                            sex_Female    0.011737\n",
            "32                relationship_Own-child    0.011117\n",
            "41                              sex_Male    0.010248\n",
            "17                     education_HS-grad    0.008650\n",
            "33                relationship_Unmarried    0.007320\n",
            "20                 education_Prof-school    0.007133\n",
            "22               marital-status_Divorced    0.006523\n",
            "16                   education_Doctorate    0.005100\n",
            "39                            race_White    0.004671\n",
            "21                education_Some-college    0.004648\n",
            "37                            race_Black    0.003411\n",
            "11                     education_7th-8th    0.003343\n",
            "36               race_Asian-Pac-Islander    0.003192\n",
            "7                         education_11th    0.002589\n",
            "31           relationship_Other-relative    0.002383\n",
            "6                         education_10th    0.001953\n",
            "12                         education_9th    0.001835\n",
            "14                   education_Assoc-voc    0.001793\n",
            "27              marital-status_Separated    0.001766\n",
            "13                  education_Assoc-acdm    0.001672\n",
            "10                     education_5th-6th    0.001485\n",
            "28                marital-status_Widowed    0.001426\n",
            "38                            race_Other    0.001118\n",
            "35               race_Amer-Indian-Eskimo    0.001086\n",
            "25  marital-status_Married-spouse-absent    0.001082\n",
            "9                      education_1st-4th    0.000562\n",
            "23      marital-status_Married-AF-spouse    0.000483\n",
            "8                         education_12th    0.000426\n",
            "19                   education_Preschool    0.000062\n"
          ]
        }
      ]
    },
    {
      "cell_type": "markdown",
      "source": [
        "# Seperating New Data"
      ],
      "metadata": {
        "id": "E4KHDxbyHLQq"
      }
    },
    {
      "cell_type": "code",
      "source": [
        "def educational_bin(row):\n",
        "  if row in first_category:\n",
        "    return 'high school or less'\n",
        "  elif row in second_category:\n",
        "    return 'college to bachelor'\n",
        "  elif row in third_category:\n",
        "    return 'master or higher'\n",
        "  else:\n",
        "    return row\n",
        "\n",
        "\n",
        "census_income = fetch_ucirepo(id=20)\n",
        "X = census_income.data.features\n",
        "y = census_income.data.targets\n",
        "\n",
        "drop = ['workclass', 'occupation', 'native-country']\n",
        "\n",
        "X = X.drop(columns=drop)\n",
        "obj_col = []\n",
        "\n",
        "for column in X.columns:\n",
        "  if X[column].dtype == 'object':\n",
        "    X[column] = X[column].apply(lambda x: x.strip() if isinstance(x, str) else x)\n",
        "    obj_col.append(column)\n",
        "\n",
        "print(X.education.unique())\n",
        "first_category = ['Preschool', '1st-4th', '5th-6th', '7th-8th', '9th', '10th', '11th', '12th', 'Some-college', 'HS-grad']\n",
        "second_category = ['Bachelors', 'Assoc-voc', 'Assoc-acdm']\n",
        "third_category = ['Prof-school', 'Masters', 'Doctorate']\n",
        "\n",
        "X['education_bin'] = X.education.apply(educational_bin)\n",
        "\n",
        "obj_col.append('education_bin')\n",
        "X = pd.get_dummies(X, columns=obj_col)\n",
        "\n",
        "y = y.income.apply(lambda x: str(x).strip())\n",
        "y = y.map({'<=50K': 0, '<=50K.': 0, '>50K': 1, '>50K.': 1})\n",
        "\n",
        "x_train, x_test, y_train, y_test = train_test_split(X, y, test_size=.2, random_state=8)"
      ],
      "metadata": {
        "colab": {
          "base_uri": "https://localhost:8080/"
        },
        "id": "wPzNifP2GRrP",
        "outputId": "d0db5cc5-098f-43ad-c7ee-4da1f069907d"
      },
      "execution_count": null,
      "outputs": [
        {
          "output_type": "stream",
          "name": "stdout",
          "text": [
            "['Bachelors' 'HS-grad' '11th' 'Masters' '9th' 'Some-college' 'Assoc-acdm'\n",
            " 'Assoc-voc' '7th-8th' 'Doctorate' 'Prof-school' '5th-6th' '10th'\n",
            " '1st-4th' 'Preschool' '12th']\n",
            "   age  fnlwgt  education-num  capital-gain  capital-loss  hours-per-week  \\\n",
            "0   39   77516             13          2174             0              40   \n",
            "1   50   83311             13             0             0              13   \n",
            "2   38  215646              9             0             0              40   \n",
            "3   53  234721              7             0             0              40   \n",
            "4   28  338409             13             0             0              40   \n",
            "\n",
            "   education_10th  education_11th  education_12th  education_1st-4th  ...  \\\n",
            "0           False           False           False              False  ...   \n",
            "1           False           False           False              False  ...   \n",
            "2           False           False           False              False  ...   \n",
            "3           False            True           False              False  ...   \n",
            "4           False           False           False              False  ...   \n",
            "\n",
            "   race_Amer-Indian-Eskimo  race_Asian-Pac-Islander  race_Black  race_Other  \\\n",
            "0                    False                    False       False       False   \n",
            "1                    False                    False       False       False   \n",
            "2                    False                    False       False       False   \n",
            "3                    False                    False        True       False   \n",
            "4                    False                    False        True       False   \n",
            "\n",
            "   race_White  sex_Female  sex_Male  education_bin_college to bachelor  \\\n",
            "0        True       False      True                               True   \n",
            "1        True       False      True                               True   \n",
            "2        True       False      True                              False   \n",
            "3       False       False      True                              False   \n",
            "4       False        True     False                               True   \n",
            "\n",
            "   education_bin_high school or less  education_bin_master or higher  \n",
            "0                              False                           False  \n",
            "1                              False                           False  \n",
            "2                               True                           False  \n",
            "3                               True                           False  \n",
            "4                              False                           False  \n",
            "\n",
            "[5 rows x 45 columns]\n"
          ]
        }
      ]
    },
    {
      "cell_type": "markdown",
      "source": [
        "# Testing 25 different depths"
      ],
      "metadata": {
        "id": "ruxUcb-kN2Hg"
      }
    },
    {
      "cell_type": "code",
      "source": [
        "max_depth = [i for i in range(1, 26)]\n",
        "accuracy_test = []\n",
        "accuracy_train = []\n",
        "\n",
        "for depth in max_depth:\n",
        "  rf = RandomForestClassifier(n_estimators=100, max_depth=depth, random_state=8)\n",
        "  rf.fit(x_train, y_train)\n",
        "  accuracy_test.append(rf.score(x_test, y_test))\n",
        "  accuracy_train.append(rf.score(x_train, y_train))\n",
        "print(accuracy_test, accuracy_train)"
      ],
      "metadata": {
        "colab": {
          "base_uri": "https://localhost:8080/"
        },
        "id": "3oFuhrfsN1Wx",
        "outputId": "459b1e7e-2a9e-4570-f7cc-a8b3f5fc3acb"
      },
      "execution_count": null,
      "outputs": [
        {
          "output_type": "stream",
          "name": "stdout",
          "text": [
            "[0.7549390930494421, 0.7831917289384789, 0.8127751049237384, 0.8342716757088751, 0.8376497082608251, 0.8426655747773569, 0.8462483365748797, 0.8499334629951889, 0.852492578564848, 0.8525949431876344, 0.8532091309243526, 0.8540280479066434, 0.8545398710205753, 0.8556658818712253, 0.8557682464940116, 0.8579179035725253, 0.8564847988535162, 0.8565871634763026, 0.8555635172484389, 0.8540280479066434, 0.8548469648889344, 0.8553587880028662, 0.8522878493192753, 0.8526973078104207, 0.8497287337496161] [0.762163130550508, 0.789215058992143, 0.8205154454482635, 0.840017403321987, 0.8432165433931359, 0.8482839812658357, 0.8519949837483685, 0.8573951321884677, 0.8603639341744939, 0.8631791774371049, 0.8665574693522381, 0.8696542369411102, 0.8724950733242904, 0.8764876001330842, 0.8818877485731835, 0.888516366800604, 0.8927392316945205, 0.8999308985744632, 0.9068410411281448, 0.9153635502776853, 0.9212499680085993, 0.9293373941084636, 0.9354541499245003, 0.943464796662657, 0.9524735751030123]\n"
          ]
        }
      ]
    },
    {
      "cell_type": "code",
      "source": [
        "print(max(accuracy_test), accuracy_test.index(max(accuracy_test)))"
      ],
      "metadata": {
        "colab": {
          "base_uri": "https://localhost:8080/"
        },
        "id": "PGx9kgdwN9VY",
        "outputId": "68ff5fd6-2b3a-428e-adfb-44d3d63743d3"
      },
      "execution_count": null,
      "outputs": [
        {
          "output_type": "stream",
          "name": "stdout",
          "text": [
            "0.8579179035725253 15\n"
          ]
        }
      ]
    },
    {
      "cell_type": "code",
      "source": [
        "plt.scatter(max_depth, accuracy_test, label='Test')\n",
        "plt.scatter(max_depth, accuracy_train, label='Train')\n",
        "plt.legend()\n",
        "plt.show()"
      ],
      "metadata": {
        "colab": {
          "base_uri": "https://localhost:8080/",
          "height": 430
        },
        "id": "wpU9ylw9OJ8t",
        "outputId": "19e5a4cf-3d47-42c0-c396-f4ef6eff175c"
      },
      "execution_count": null,
      "outputs": [
        {
          "output_type": "display_data",
          "data": {
            "text/plain": [
              "<Figure size 640x480 with 1 Axes>"
            ],
            "image/png": "[encoded data removed]"
          },
          "metadata": {}
        }
      ]
    },
    {
      "cell_type": "code",
      "source": [
        "rf = RandomForestClassifier(n_estimators=100, max_depth=15, random_state=8)\n",
        "rf.fit(x_train, y_train)\n",
        "\n",
        "important_features = pd.DataFrame(data={'feature': rf.feature_names_in_, 'importance': rf.feature_importances_})\n",
        "print(important_features.sort_values(by='importance', ascending=False))"
      ],
      "metadata": {
        "colab": {
          "base_uri": "https://localhost:8080/"
        },
        "id": "Px32A0rOOcMA",
        "outputId": "8f767b81-0d18-4696-d10d-81472ff6645b"
      },
      "execution_count": null,
      "outputs": [
        {
          "output_type": "stream",
          "name": "stdout",
          "text": [
            "                                 feature  importance\n",
            "3                           capital-gain    0.163196\n",
            "24     marital-status_Married-civ-spouse    0.133453\n",
            "29                  relationship_Husband    0.086723\n",
            "0                                    age    0.086707\n",
            "2                          education-num    0.085918\n",
            "5                         hours-per-week    0.066088\n",
            "1                                 fnlwgt    0.053818\n",
            "43     education_bin_high school or less    0.049627\n",
            "4                           capital-loss    0.048208\n",
            "26          marital-status_Never-married    0.043538\n",
            "44        education_bin_master or higher    0.022872\n",
            "34                     relationship_Wife    0.014402\n",
            "30            relationship_Not-in-family    0.014271\n",
            "32                relationship_Own-child    0.013095\n",
            "15                   education_Bachelors    0.012036\n",
            "41                              sex_Male    0.011060\n",
            "42     education_bin_college to bachelor    0.009900\n",
            "22               marital-status_Divorced    0.009371\n",
            "40                            sex_Female    0.009340\n",
            "17                     education_HS-grad    0.007974\n",
            "21                education_Some-college    0.007000\n",
            "33                relationship_Unmarried    0.006923\n",
            "18                     education_Masters    0.005727\n",
            "20                 education_Prof-school    0.004432\n",
            "39                            race_White    0.004335\n",
            "36               race_Asian-Pac-Islander    0.003071\n",
            "37                            race_Black    0.003006\n",
            "16                   education_Doctorate    0.002807\n",
            "27              marital-status_Separated    0.002450\n",
            "11                     education_7th-8th    0.002198\n",
            "28                marital-status_Widowed    0.002071\n",
            "14                   education_Assoc-voc    0.001971\n",
            "31           relationship_Other-relative    0.001754\n",
            "7                         education_11th    0.001604\n",
            "12                         education_9th    0.001337\n",
            "6                         education_10th    0.001326\n",
            "25  marital-status_Married-spouse-absent    0.001217\n",
            "13                  education_Assoc-acdm    0.001206\n",
            "38                            race_Other    0.000992\n",
            "35               race_Amer-Indian-Eskimo    0.000947\n",
            "10                     education_5th-6th    0.000833\n",
            "23      marital-status_Married-AF-spouse    0.000521\n",
            "8                         education_12th    0.000349\n",
            "9                      education_1st-4th    0.000265\n",
            "19                   education_Preschool    0.000064\n"
          ]
        }
      ]
    }
  ]
}